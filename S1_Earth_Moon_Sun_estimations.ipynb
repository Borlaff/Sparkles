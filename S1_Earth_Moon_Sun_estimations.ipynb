{
 "cells": [
  {
   "cell_type": "code",
   "execution_count": 1,
   "metadata": {},
   "outputs": [],
   "source": [
    "import matplotlib.pyplot as plt\n",
    "%matplotlib inline\n",
    "import numpy as np\n",
    "import healpy as hp\n",
    "\n",
    "# Useful definitions \n",
    "# Photometry: \n",
    "# http://faraday.uwyo.edu/~admyers/ASTR5160/handouts/516016.pdf\n",
    "# https://www.mso.anu.edu.au/~amedling/obstech/obstech_5_fluxes.pdf\n",
    "# ESA Land Observations: https://earth.esa.int/landtraining09/D1Lb1_PotuckovaOpticalBasics.pdf\n",
    "# https://arxiv.org/pdf/1507.03578.pdf\n",
    "\n",
    "# Moon and Earth parameters:\n",
    "# https://nssdc.gsfc.nasa.gov/planetary/factsheet/moonfact.html\n",
    "\n",
    "# Physical Constants \n",
    "R_earth = 6371E+3 # Radius of the Earth, m\n",
    "R_moon = 1738.2E+3 # Radius of the Moon, m (Allen 1976)\n",
    "d_moon_earth = 384400E+3 # Distance Moon - Earth, m \n",
    "h_sat = 600E+3 # Altitude of the spacecraft, m\n",
    "cs = 299792458. # Speed of light, m/s\n",
    "h = 6.62607004E-34 # Planck's constant m2 kg / s\n",
    "albedo_earth = 0.434 # Average value for the albedo of the Earth \n",
    "albedo_moon = 0.12 # Average value for the albedo of the Moon\n",
    "d_sun_earth = 149597870E+3 # m\n",
    "\n",
    "# Statistical constants \n",
    "sigma1=0.682689492137086 \n",
    "sigma2=0.954499736103642 \n",
    "sigma3=0.997300203936740 "
   ]
  },
  {
   "cell_type": "code",
   "execution_count": 2,
   "metadata": {},
   "outputs": [],
   "source": [
    "## Functions ## \n",
    "# This needs to be periodically dumped to a tools.py file \n",
    "\n",
    "# Cheatsheet\n",
    "# AB mag in W/Hz/m2: mAB = -2.5*log10(f) - 56.1  \n",
    "\n",
    "def flux2mag(flux): \n",
    "    # Input flux in W/m2/Hz\n",
    "    # Output magAB \n",
    "    # Ref: http://faraday.uwyo.edu/~admyers/ASTR5160/handouts/516016.pdf\n",
    "    return(-2.5*np.log10(flux) - 56.1)\n",
    "\n",
    "def mag2flux(mag): \n",
    "    # Output flux in W/m2/Hz \n",
    "    # Input magAB \n",
    "    # Ref: http://faraday.uwyo.edu/~admyers/ASTR5160/handouts/516016.pdf\n",
    "    return(10**((-56.1-mag)/2.5))\n",
    "\n",
    "def flux_freq2wave(flux, lambda_ref):\n",
    "    # Fλ  = Fν c / λ2  \n",
    "    # Input: flux in W/m2/Hz, lambda_ref in m\n",
    "    # Output: flux in W/m2/m\n",
    "    return(cs*flux/lambda_ref**2)\n",
    "\n",
    "def flux_wave2freq(flux, lambda_ref):\n",
    "    # Fν    =    Fλ    λ2/c   \n",
    "    # Input: flux in W/m2/m, lambda_ref in m\n",
    "    # Output: flux in W/m2/Hz\n",
    "    return(flux*lambda_ref**2/cs)\n",
    "\n",
    "def angular_radius_earth_from_orbit(h_sat):\n",
    "    # Input - Orbit altitude\n",
    "    # Output - Apparent angular size of the Earth from orbit in degrees\n",
    "    return(np.degrees(np.arctan(R_earth/(R_earth+h_sat))))\n",
    "\n",
    "\n",
    "\n",
    "\n",
    "def sb_sunlit_moon(mag_sun, d_moon_obs):\n",
    "    # Input: \n",
    "    # mag_sun: Apparent magnitude of the sun  \n",
    "    # d_moon_observer: Distance of the observer to the surface of the Earth\n",
    "    \n",
    "    # This is the flux that arrives to Earth, the Solar Constant \n",
    "    flux_sun_at_moon = mag2flux(mag_sun) # W / m2 / Hz - We can aprox that it is the same for Moon and Earth\n",
    "    \n",
    "    # The Earth cross section is R_earth**2 * pi\n",
    "    # Then the light has to illuminate half of the sphere until R_moon + h, times the albedo\n",
    "    sunflux_reflected_by_moon = albedo_moon*flux_sun_at_moon*R_moon**2/(2*(R_moon+d_moon_obs)**2)\n",
    "    \n",
    "    # The angular radius of the earth in degrees as defined by the function \n",
    "    angular_radius_moon_from_obs = np.degrees(np.arctan(R_moon/(R_moon+d_moon_obs)))\n",
    "    \n",
    "    # The area is just r**2 * pi, times 3600**2 to switch from deg**2 to arcsec**2\n",
    "    area_moon_from_obs = np.pi*angular_radius_moon_from_obs**2*3600**2\n",
    "    \n",
    "    # The surface brightness intensity is:\n",
    "    sb_intensity = sunflux_reflected_by_moon/area_moon_from_obs\n",
    "    return(sb_intensity)\n",
    "\n",
    "\n",
    "def sb_sunlit_earth(mag_sun, d_earth_obs):\n",
    "    # Input: \n",
    "    # mag_sun: Apparent magnitude of the sun  \n",
    "    # albedo_earth: Albedo of the Earth\n",
    "    # d_earth_observer: Distance of the observer to the surface of the Earth\n",
    "    \n",
    "    # This is the flux that arrives to Earth, the Solar Constant \n",
    "    flux_sun_at_earth = mag2flux(mag_sun) # W / m2 / Hz\n",
    "    \n",
    "    # The Earth cross section is R_earth**2 * pi\n",
    "    # Then the light has to illuminate half of the sphere until R_earth + h, times the albedo\n",
    "    sunflux_reflected_by_earth = albedo_earth*flux_sun_at_earth*R_earth**2/(2*(R_earth+d_earth_obs)**2)\n",
    "    \n",
    "    # The angular radius of the earth in degrees as defined by the function \n",
    "    angular_radius_earth_from_obs = angular_radius_earth_from_orbit(d_earth_obs)\n",
    "    \n",
    "    # The area is just r**2 * pi, times 3600**2 to switch from deg**2 to arcsec**2\n",
    "    area_earth_from_obs = np.pi*angular_radius_earth_from_obs**2*3600**2\n",
    "    \n",
    "    # The surface brightness intensity is:\n",
    "    sb_intensity = sunflux_reflected_by_earth/area_earth_from_obs\n",
    "    return(sb_intensity)\n",
    "\n",
    "\n",
    "def sb_moonlit_earth(mag_sun, d_earth_obs):\n",
    "    # Input: \n",
    "    # mag_sun: Apparent magnitude of the sun  \n",
    "    # d_earth_observer: Distance of the observer to the surface of the Earth\n",
    "    \n",
    "    # This is the flux that arrives to Earth, the Solar Constant \n",
    "    flux_sun_at_moon = mag2flux(mag_sun) # W / m2 / Hz\n",
    "    \n",
    "    # The Earth cross section is R_earth**2 * pi\n",
    "    # Then the light has to illuminate half of the sphere until R_earth + h, times the albedo\n",
    "    sunflux_reflected_by_moon_to_earth = albedo_moon*flux_sun_at_moon*R_moon**2/(2*(d_moon_earth)**2)\n",
    "\n",
    "    # The intensity received by Earth from the full moon is\n",
    "    I_moon_earth = sunflux_reflected_by_moon_to_earth*np.pi*R_earth**2\n",
    "\n",
    "    # The flux of the night side of the Earth illuminated by the Moon at an altitude h_sat is:\n",
    "    f_earthshine_moonlit = albedo_earth*I_moon_earth/(2*np.pi*(R_earth + d_earth_obs)**2)    \n",
    "    \n",
    "    # The angular radius of the earth in degrees as defined by the function \n",
    "    angular_radius_earth_from_obs = angular_radius_earth_from_orbit(d_earth_obs)\n",
    "    \n",
    "    # The area is just r**2 * pi, times 3600**2 to switch from deg**2 to arcsec**2\n",
    "    area_earth_from_obs = np.pi*angular_radius_earth_from_obs**2*3600**2\n",
    "    \n",
    "    # The surface brightness intensity is:\n",
    "    sb_intensity = f_earthshine_moonlit/area_earth_from_obs\n",
    "    return(sb_intensity)"
   ]
  },
  {
   "cell_type": "code",
   "execution_count": 3,
   "metadata": {},
   "outputs": [
    {
     "data": {
      "image/png": "[encoded data removed]",
      "text/plain": [
       "<Figure size 432x288 with 1 Axes>"
      ]
     },
     "metadata": {
      "needs_background": "light"
     },
     "output_type": "display_data"
    },
    {
     "data": {
      "image/png": "[encoded data removed]",
      "text/plain": [
       "<Figure size 432x288 with 1 Axes>"
      ]
     },
     "metadata": {
      "needs_background": "light"
     },
     "output_type": "display_data"
    }
   ],
   "source": [
    "###################################\n",
    "# Sun photometric characteristics #\n",
    "###################################\n",
    "# Apparent magnitude of the Sun -  Bohlin and Gilliland 2004 \n",
    "u_sun = -26.12 # AB mag\n",
    "g_sun = -26.36 # AB mag\n",
    "r_sun = -27.08 # AB mag\n",
    "i_sun = -27.42 # AB mag \n",
    "z_sun = -27.58 # AB mag\n",
    "\n",
    "u_l = 3543E-10 # m\n",
    "g_l = 4770E-10 # m\n",
    "r_l = 6231E-10 # m\n",
    "i_l = 7625E-10 # m\n",
    "z_l = 9134E-10 # m\n",
    "\n",
    "sun_mag = np.array([u_sun, g_sun, r_sun, i_sun, z_sun])\n",
    "sun_wave = np.array([u_l, g_l, r_l, i_l, z_l])\n",
    "sun_flux = mag2flux(np.array([u_sun, g_sun, r_sun, i_sun, z_sun]))\n",
    "\n",
    "plt.plot(sun_wave, mag2flux(sun_mag))\n",
    "plt.scatter(sun_wave, mag2flux(sun_mag))\n",
    "plt.xlabel(\"Wavelength (m)\")\n",
    "plt.ylabel(\"Flux (W/m2/Hz)\")\n",
    "plt.show()\n",
    "\n",
    "# Most plots of the Sun spectrum are in W/m2/nm so lets switch from frequency to wavelength \n",
    "plt.plot(sun_wave, 1E-9*flux_freq2wave(mag2flux(sun_mag), sun_wave))\n",
    "plt.scatter(sun_wave, 1E-9*flux_freq2wave(mag2flux(sun_mag), sun_wave))\n",
    "plt.xlabel(\"Wavelength (m)\")\n",
    "plt.ylabel(\"Flux (W/m2/nm)\")\n",
    "plt.show()\n",
    "\n",
    "# Note: \n",
    "# The approximate flux from the sun at optical frequencies is ~ 2 W/m2/nm, so we are ok up to this point\n",
    "##################################"
   ]
  },
  {
   "cell_type": "code",
   "execution_count": 4,
   "metadata": {},
   "outputs": [
    {
     "name": "stdout",
     "output_type": "stream",
     "text": [
      "Surface brightness of the sunlit Earth\n",
      "[3.35365864 3.11365864 2.39365864 2.05365864 1.89365864]\n",
      "Surface brightness of the Moonlit Earth\n",
      "[18.13169868 17.89169868 17.17169868 16.83169868 16.67169868]\n",
      "urface brightness of the Sunlit Moon\n",
      "[4.74960755 4.50960755 3.78960755 3.44960755 3.28960755]\n"
     ]
    }
   ],
   "source": [
    "# Surface brightness of the sunlit Earth\n",
    "print(\"Surface brightness of the sunlit Earth\")\n",
    "print(flux2mag(sb_sunlit_earth(mag_sun=sun_mag, d_earth_obs=d_moon_earth)))\n",
    "\n",
    "# Surface brightness of the Moonlit Earth\n",
    "print(\"Surface brightness of the Moonlit Earth\")\n",
    "print(flux2mag(sb_moonlit_earth(mag_sun=sun_mag, d_earth_obs=d_moon_earth)))\n",
    "\n",
    "# Surface brightness of the Sunlit Moon\n",
    "print(\"urface brightness of the Sunlit Moon\")\n",
    "print(flux2mag(sb_sunlit_moon(mag_sun=sun_mag, d_moon_obs=d_moon_earth)))"
   ]
  },
  {
   "cell_type": "code",
   "execution_count": 5,
   "metadata": {},
   "outputs": [
    {
     "name": "stdout",
     "output_type": "stream",
     "text": [
      "Magnitude of the Moon from the Earth\n",
      "[-11.34195996 -11.58195996 -12.30195996 -12.64195996 -12.80195996]\n",
      "Official value mag(V moon)= -12.74\n"
     ]
    }
   ],
   "source": [
    "# Magnitude of the Moon if it was a perfect reflector \n",
    "I_sun_moon = sun_flux*np.pi*R_moon**2\n",
    "f_moonshine = albedo_moon*I_sun_moon/(2*np.pi*(d_moon_earth)**2)\n",
    "print(\"Magnitude of the Moon from the Earth\")\n",
    "print(flux2mag(f_moonshine))\n",
    "\n",
    "print(\"Official value mag(V moon)= -12.74\")"
   ]
  },
  {
   "cell_type": "code",
   "execution_count": 7,
   "metadata": {},
   "outputs": [
    {
     "name": "stdout",
     "output_type": "stream",
     "text": [
      "Magnitude of the sunlit Earth from a satellite\n",
      "[-24.26571195 -24.50571195 -25.22571195 -25.56571195 -25.72571195]\n",
      "Angular radius of the earth from satellite perspective: 42.42509960020493\n",
      "Area earth: 5654.518298712408 degrees^2\n",
      "Surface brightness magnitude of the sunlit Earth from a satellite\n",
      "[2.89678959 2.65678959 1.93678959 1.59678959 1.43678959]\n"
     ]
    }
   ],
   "source": [
    "# Magnitude of the sunlit Earth from a satellite at 600 km\n",
    "\n",
    "I_sun_earth = sun_flux*np.pi*R_earth**2\n",
    "f_earthshine_sunlit = albedo_earth*I_sun_earth/(2*np.pi*(R_earth + h_sat)**2)\n",
    "print(\"Magnitude of the sunlit Earth from a satellite\")\n",
    "print(flux2mag(f_earthshine_sunlit))\n",
    "\n",
    "# Surface brightness magnitude of the Sunlit earth\n",
    "# Earth parameters \n",
    "\n",
    "# First we calculate the angular radius of the Earth from the satelite\n",
    "earth_theta = angular_radius_earth_from_orbit(h_sat) # Visible angle of the radius of the Earth, radians\n",
    "print(\"Angular radius of the earth from satellite perspective: \" + str(earth_theta))\n",
    "\n",
    "# Then we estimate the area\n",
    "area_earth = (earth_theta)**2*np.pi # Area occupied by the surface of the Earth deg^2\n",
    "print(\"Area earth: \" + str(area_earth) + \" degrees^2\")\n",
    "\n",
    "# We smear all the flux over the surface \n",
    "mu_earthshine_sunlit = -2.5*np.log10(f_earthshine_sunlit/(area_earth*3600*3600)) - 56.1\n",
    "print(\"Surface brightness magnitude of the sunlit Earth from a satellite\")\n",
    "print(mu_earthshine_sunlit)"
   ]
  },
  {
   "cell_type": "code",
   "execution_count": 8,
   "metadata": {},
   "outputs": [
    {
     "name": "stdout",
     "output_type": "stream",
     "text": [
      "Area earth: 1.8703485050859758e-05 degrees^2\n",
      "Surface brightness magnitude of the sunlit Earth from 1 AU\n",
      "2.0113188460251052\n"
     ]
    }
   ],
   "source": [
    "# TEST: Let's find out if our model is accurate enough. \n",
    "# Absolute magnitude of the FULL earth is -3.99 \n",
    "# What is its surface brightness?\n",
    "\n",
    "flux_at_1AU = mag2flux(-3.95)\n",
    "earth_theta_1AU = angular_radius_earth_from_orbit(d_sun_earth) # Visible angle of the radius of the Earth, degrees\n",
    "area_earth_1AU = (earth_theta_1AU)**2*np.pi # Area occupied by the surface of the Earth deg^2\n",
    "print(\"Area earth: \" + str(area_earth_1AU) + \" degrees^2\")\n",
    "\n",
    "# We smear all the flux over the surface \n",
    "mu_earthshine_1AU = -2.5*np.log10(flux_at_1AU/(area_earth_1AU*3600*3600)) - 56.1\n",
    "print(\"Surface brightness magnitude of the sunlit Earth from 1 AU\")\n",
    "print(mu_earthshine_1AU)\n",
    "\n",
    "# It works! It is very similar to what we obtain with our approximations. "
   ]
  },
  {
   "cell_type": "code",
   "execution_count": 9,
   "metadata": {},
   "outputs": [
    {
     "name": "stdout",
     "output_type": "stream",
     "text": [
      "Magnitude of the moonlit Earth from a satellite\n",
      "[ -9.48767191  -9.72767191 -10.44767191 -10.78767191 -10.94767191]\n",
      "Surface brightness magnitude of the sunlit Earth from a satellite\n",
      "[17.67482963 17.43482963 16.71482963 16.37482963 16.21482963]\n"
     ]
    }
   ],
   "source": [
    "# Now let's do it for the Moonlit side of the Earth\n",
    "I_moon_earth = f_moonshine*np.pi*R_earth**2\n",
    "f_earthshine_moonlit = albedo_earth*I_moon_earth/(2*np.pi*(R_earth + h_sat)**2)\n",
    "print(\"Magnitude of the moonlit Earth from a satellite\")\n",
    "print(flux2mag(f_earthshine_moonlit))\n",
    "\n",
    "# We smear all the flux over the surface \n",
    "mu_earthshine_moonlit = -2.5*np.log10(f_earthshine_moonlit/(area_earth*3600*3600)) - 56.1\n",
    "print(\"Surface brightness magnitude of the sunlit Earth from a satellite\")\n",
    "print(mu_earthshine_moonlit)\n"
   ]
  },
  {
   "cell_type": "code",
   "execution_count": 14,
   "metadata": {},
   "outputs": [
    {
     "name": "stdout",
     "output_type": "stream",
     "text": [
      "Magnitude of the Earthshine Dark side Moon from the Earth\n",
      "[-0.37930924 -0.61930924 -1.33930924 -1.67930924 -1.83930924]\n",
      "Angular radius of the Moon from Earth perspective: 0.2590839317027276\n",
      "Area moon: 0.21087778476282146 degrees^2\n",
      "Surface brightness magnitude of the Dark Side of the Moon from Earth\n",
      "[15.71228034 15.47228034 14.75228034 14.41228034 14.25228034]\n",
      "\n",
      "Montañes-Rodriguez, Pallé, Goode 2007\n",
      "The surface brightness of the Dark Side of the Moon is 15.44 mag/arcsec^2 in band V\n",
      "\n",
      "Surface brightness magnitude of the Bright Side of the Moon from Earth\n",
      "[4.74962962 4.50962962 3.78962962 3.44962962 3.28962962]\n"
     ]
    }
   ],
   "source": [
    "# Montañes-Rodriguez, Pallé, Goode 2007. \n",
    "# The surface brightness of the Dark Side of the Moon is 15.44 mag/arcsec^2 in band V \n",
    "# Magnitude of the sunlit Earth from a satellite at 600 km\n",
    "\n",
    "I_sun_earth = sun_flux*np.pi*R_earth**2\n",
    "f_darkside_moon = albedo_earth*I_sun_earth/(2*np.pi*(d_moon_earth)**2)\n",
    "I_darkside_moon = f_darkside_moon*np.pi*R_moon**2 \n",
    "f_darkside_moon_backtoearth = albedo_moon*I_darkside_moon/(2*np.pi*(d_moon_earth)**2)\n",
    "\n",
    "print(\"Magnitude of the Earthshine Dark side Moon from the Earth\")\n",
    "print(flux2mag(f_darkside_moon_backtoearth))\n",
    "\n",
    "# Surface brightness magnitude of the Sunlit earth\n",
    "# Earth parameters \n",
    "\n",
    "# First we calculate the angular radius of the Earth from the satelite\n",
    "moon_theta_from_earth = np.degrees(np.arcsin(R_moon/d_moon_earth)) # Visible angle of the radius of the Earth, radians\n",
    "print(\"Angular radius of the Moon from Earth perspective: \" + str(moon_theta_from_earth))\n",
    "\n",
    "# Then we estimate the area\n",
    "area_moon = (moon_theta_from_earth)**2*np.pi # Area occupied by the surface of the Earth deg^2\n",
    "print(\"Area moon: \" + str(area_moon) + \" degrees^2\")\n",
    "\n",
    "# We smear all the flux over the surface \n",
    "mu_darkside_moon_backtoearth = -2.5*np.log10(f_darkside_moon_backtoearth/(area_moon*3600*3600)) - 56.1\n",
    "print(\"Surface brightness magnitude of the Dark Side of the Moon from Earth\")\n",
    "print(mu_darkside_moon_backtoearth)\n",
    "\n",
    "print(\"\\nMontañes-Rodriguez, Pallé, Goode 2007\") \n",
    "print(\"The surface brightness of the Dark Side of the Moon is 15.44 mag/arcsec^2 in band V\\n\")      \n",
    "\n",
    "# Now for the bright side of the Moon\n",
    "mu_brightside_moon = -2.5*np.log10(f_moonshine/(area_moon*3600*3600)) - 56.1\n",
    "print(\"Surface brightness magnitude of the Bright Side of the Moon from Earth\")\n",
    "print(mu_brightside_moon)"
   ]
  },
  {
   "cell_type": "code",
   "execution_count": null,
   "metadata": {},
   "outputs": [],
   "source": []
  }
 ],
 "metadata": {
  "kernelspec": {
   "display_name": "Python 3",
   "language": "python",
   "name": "python3"
  },
  "language_info": {
   "codemirror_mode": {
    "name": "ipython",
    "version": 3
   },
   "file_extension": ".py",
   "mimetype": "text/x-python",
   "name": "python",
   "nbconvert_exporter": "python",
   "pygments_lexer": "ipython3",
   "version": "3.6.10"
  }
 },
 "nbformat": 4,
 "nbformat_minor": 4
}
